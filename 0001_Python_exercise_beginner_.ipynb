{
  "nbformat": 4,
  "nbformat_minor": 0,
  "metadata": {
    "colab": {
      "name": "0001-Python exercise beginner .ipynb",
      "provenance": [],
      "collapsed_sections": []
    },
    "kernelspec": {
      "name": "python3",
      "display_name": "Python 3"
    },
    "language_info": {
      "name": "python"
    }
  },
  "cells": [
    {
      "cell_type": "markdown",
      "metadata": {
        "id": "cnZzRZM0AADg"
      },
      "source": [
        "From https://www.youtube.com/watch?v=ODjFDZC_TyA&list=PLTjRvDozrdlxj5wgH4qkvwSOdHLOCx10f&index=5"
      ]
    },
    {
      "cell_type": "markdown",
      "metadata": {
        "id": "xH_aCmdaEAZI"
      },
      "source": [
        "#1"
      ]
    },
    {
      "cell_type": "code",
      "metadata": {
        "colab": {
          "base_uri": "https://localhost:8080/"
        },
        "id": "mSU2NXlm_7zx",
        "outputId": "25a610af-55c2-4e90-d4b6-9d5c7e73675d"
      },
      "source": [
        "ctr=0\n",
        "\n",
        "for i in range(1,10):\n",
        "  if i % 2 == 0:\n",
        "    print(i)\n",
        "    ctr = ctr + 1\n",
        "print('We have', ctr , 'even numbers')\n",
        "   "
      ],
      "execution_count": 25,
      "outputs": [
        {
          "output_type": "stream",
          "text": [
            "2\n",
            "4\n",
            "6\n",
            "8\n",
            "We have 4 even numbers\n"
          ],
          "name": "stdout"
        }
      ]
    },
    {
      "cell_type": "markdown",
      "metadata": {
        "id": "Q5nDgDPLEKnL"
      },
      "source": [
        "#2"
      ]
    },
    {
      "cell_type": "code",
      "metadata": {
        "colab": {
          "base_uri": "https://localhost:8080/"
        },
        "id": "anznNLvRAjXI",
        "outputId": "98874a1a-6f5b-45eb-fe08-05efaefc053b"
      },
      "source": [
        "for i in range(7):\n",
        "  print(i)"
      ],
      "execution_count": 27,
      "outputs": [
        {
          "output_type": "stream",
          "text": [
            "0\n",
            "1\n",
            "2\n",
            "3\n",
            "4\n",
            "5\n",
            "6\n"
          ],
          "name": "stdout"
        }
      ]
    },
    {
      "cell_type": "code",
      "metadata": {
        "colab": {
          "base_uri": "https://localhost:8080/"
        },
        "id": "jtWvZilCE5kW",
        "outputId": "607e4efc-b452-42be-ba95-6fdd2b610d5a"
      },
      "source": [
        "n=7\n",
        "for i in range(1,n+1):\n",
        "  print(i)"
      ],
      "execution_count": 31,
      "outputs": [
        {
          "output_type": "stream",
          "text": [
            "1\n",
            "2\n",
            "3\n",
            "4\n",
            "5\n",
            "6\n",
            "7\n"
          ],
          "name": "stdout"
        }
      ]
    },
    {
      "cell_type": "code",
      "metadata": {
        "colab": {
          "base_uri": "https://localhost:8080/"
        },
        "id": "bqE5Xp3lE_gA",
        "outputId": "9beec0ec-df4a-467d-e3af-3536c6f27e1a"
      },
      "source": [
        "n=7\n",
        "for i in range(1,n+1):\n",
        "  print(i*'*')"
      ],
      "execution_count": 33,
      "outputs": [
        {
          "output_type": "stream",
          "text": [
            "*\n",
            "**\n",
            "***\n",
            "****\n",
            "*****\n",
            "******\n",
            "*******\n"
          ],
          "name": "stdout"
        }
      ]
    }
  ]
}